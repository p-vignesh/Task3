{
  "nbformat": 4,
  "nbformat_minor": 0,
  "metadata": {
    "colab": {
      "provenance": []
    },
    "kernelspec": {
      "name": "python3",
      "display_name": "Python 3"
    },
    "language_info": {
      "name": "python"
    }
  },
  "cells": [
    {
      "cell_type": "code",
      "execution_count": null,
      "metadata": {
        "colab": {
          "base_uri": "https://localhost:8080/"
        },
        "id": "FoT3O9iSYEjQ",
        "outputId": "d6598954-b257-4be4-8197-205c6c23c695"
      },
      "outputs": [
        {
          "output_type": "stream",
          "name": "stdout",
          "text": [
            "Welcome to the Password Generator!\n",
            "Enter the length of the password: 10\n",
            "Include uppercase letters? (y/n): y\n",
            "Include lowercase letters? (y/n): y\n",
            "Include digits? (y/n): y\n",
            "Include special characters? (y/n): y\n",
            "Generated Password: I)SRbYT=%J\n"
          ]
        }
      ],
      "source": [
        "import string\n",
        "import random\n",
        "\n",
        "def generate_password(length=12, uppercase=True, lowercase=True, digits=True, special_chars=True):\n",
        "    characters = \"\"\n",
        "\n",
        "    if uppercase:\n",
        "        characters += string.ascii_uppercase\n",
        "    if lowercase:\n",
        "        characters += string.ascii_lowercase\n",
        "    if digits:\n",
        "        characters += string.digits\n",
        "    if special_chars:\n",
        "        characters += string.punctuation\n",
        "\n",
        "    if not characters:\n",
        "        print(\"Error: Please choose at least one character type.\")\n",
        "        return None\n",
        "\n",
        "    password = ''.join(random.choice(characters) for _ in range(length))\n",
        "    return password\n",
        "\n",
        "def main():\n",
        "    print(\"Welcome to the Password Generator!\")\n",
        "\n",
        "    length = int(input(\"Enter the length of the password: \"))\n",
        "    uppercase = input(\"Include uppercase letters? (y/n): \").lower() == 'y'\n",
        "    lowercase = input(\"Include lowercase letters? (y/n): \").lower() == 'y'\n",
        "    digits = input(\"Include digits? (y/n): \").lower() == 'y'\n",
        "    special_chars = input(\"Include special characters? (y/n): \").lower() == 'y'\n",
        "\n",
        "    password = generate_password(length, uppercase, lowercase, digits, special_chars)\n",
        "\n",
        "    if password:\n",
        "        print(f\"Generated Password: {password}\")\n",
        "\n",
        "if __name__ == \"__main__\":\n",
        "    main()\n"
      ]
    }
  ]
}